{
 "cells": [
  {
   "cell_type": "code",
   "execution_count": 1,
   "id": "e463321a-2fdd-42dc-9d2b-5b21a4e314dc",
   "metadata": {},
   "outputs": [],
   "source": [
    "import pytest\n",
    "import ipytest\n",
    "ipytest.autoconfig()"
   ]
  },
  {
   "cell_type": "code",
   "execution_count": 2,
   "id": "55a8840c-aca7-4a5c-8b1c-11526b486424",
   "metadata": {},
   "outputs": [],
   "source": [
    "@pytest.mark.parametrize(\n",
    "    'port_test_conf',\n",
    "    [\n",
    "        'prj1_port_data_1.yaml',\n",
    "        'prj1_port_data_2.yaml',\n",
    "        'prj1_port_data_3.yaml',\n",
    "    ], \n",
    "    indirect=True\n",
    ")\n",
    "def test_portfolios(portfolio):\n",
    "    assert portfolio.weights is not None, 'Asset allocation weights are missing.'"
   ]
  },
  {
   "cell_type": "code",
   "execution_count": 3,
   "id": "acc9a749-3de8-4def-a93c-168f6476ffac",
   "metadata": {},
   "outputs": [
    {
     "name": "stdout",
     "output_type": "stream",
     "text": [
      "\u001b[32m.\u001b[0m\u001b[32m.\u001b[0m\u001b[32m.\u001b[0m\n"
     ]
    },
    {
     "data": {
      "text/plain": [
       "<ExitCode.OK: 0>"
      ]
     },
     "execution_count": 3,
     "metadata": {},
     "output_type": "execute_result"
    }
   ],
   "source": [
    "ipytest.run('-qs', '--rootdir=../../')"
   ]
  },
  {
   "cell_type": "markdown",
   "id": "ebab4065-d181-4a10-a5f9-6ba228914b24",
   "metadata": {},
   "source": [
    "---"
   ]
  }
 ],
 "metadata": {
  "kernelspec": {
   "display_name": "env2",
   "language": "python",
   "name": "env2"
  },
  "language_info": {
   "codemirror_mode": {
    "name": "ipython",
    "version": 3
   },
   "file_extension": ".py",
   "mimetype": "text/x-python",
   "name": "python",
   "nbconvert_exporter": "python",
   "pygments_lexer": "ipython3",
   "version": "3.11.9"
  }
 },
 "nbformat": 4,
 "nbformat_minor": 5
}
