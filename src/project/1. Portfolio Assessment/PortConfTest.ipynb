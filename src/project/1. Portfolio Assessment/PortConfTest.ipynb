{
 "cells": [
  {
   "cell_type": "code",
   "execution_count": 1,
   "id": "e463321a-2fdd-42dc-9d2b-5b21a4e314dc",
   "metadata": {},
   "outputs": [],
   "source": [
    "import pytest\n",
    "import ipytest\n",
    "ipytest.autoconfig()"
   ]
  },
  {
   "cell_type": "code",
   "execution_count": 2,
   "id": "d42c13c3-27f4-423f-b93a-e4ac4d39b28a",
   "metadata": {},
   "outputs": [],
   "source": [
    "from test.fixture.port_conf import *"
   ]
  },
  {
   "cell_type": "code",
   "execution_count": 3,
   "id": "55a8840c-aca7-4a5c-8b1c-11526b486424",
   "metadata": {},
   "outputs": [],
   "source": [
    "@pytest.mark.parametrize(\n",
    "    'port_test_conf',\n",
    "    [\n",
    "        'port_data_1.yaml'\n",
    "    ], \n",
    "    indirect=True\n",
    ")\n",
    "def test_portfolios(portconf):\n",
    "    assert portconf.portfolios[0].allocations[0].weights[1] == 0.4, 'Asset weight not matching.'"
   ]
  },
  {
   "cell_type": "code",
   "execution_count": 4,
   "id": "acc9a749-3de8-4def-a93c-168f6476ffac",
   "metadata": {},
   "outputs": [
    {
     "name": "stdout",
     "output_type": "stream",
     "text": [
      "\u001b[1m======================================= test session starts ========================================\u001b[0m\n",
      "platform darwin -- Python 3.11.9, pytest-8.2.2, pluggy-1.5.0 -- /Users/Sourabh/.pyenv/versions/env2/bin/python\n",
      "cachedir: .pytest_cache\n",
      "rootdir: /Users/Sourabh/Documents/Code/GitHub/cs7646ml4t/src/project/1. Portfolio Assessment\n",
      "plugins: anyio-4.3.0, typeguard-4.2.1\n",
      "\u001b[1mcollecting ... \u001b[0mcollected 1 item\n",
      "\n",
      "t_ddfd4167bc374f1688ccfe7b952ad309.py::test_portfolios[port_data_1.yaml] \u001b[32mPASSED\u001b[0m\n",
      "\n",
      "\u001b[32m======================================== \u001b[32m\u001b[1m1 passed\u001b[0m\u001b[32m in 0.02s\u001b[0m\u001b[32m =========================================\u001b[0m\n"
     ]
    },
    {
     "data": {
      "text/plain": [
       "<ExitCode.OK: 0>"
      ]
     },
     "execution_count": 4,
     "metadata": {},
     "output_type": "execute_result"
    }
   ],
   "source": [
    "ipytest.run('-vvs')"
   ]
  },
  {
   "cell_type": "markdown",
   "id": "ebab4065-d181-4a10-a5f9-6ba228914b24",
   "metadata": {},
   "source": [
    "---"
   ]
  }
 ],
 "metadata": {
  "kernelspec": {
   "display_name": "env2",
   "language": "python",
   "name": "env2"
  },
  "language_info": {
   "codemirror_mode": {
    "name": "ipython",
    "version": 3
   },
   "file_extension": ".py",
   "mimetype": "text/x-python",
   "name": "python",
   "nbconvert_exporter": "python",
   "pygments_lexer": "ipython3",
   "version": "3.11.9"
  }
 },
 "nbformat": 4,
 "nbformat_minor": 5
}
