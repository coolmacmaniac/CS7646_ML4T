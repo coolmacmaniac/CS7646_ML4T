{
 "cells": [
  {
   "cell_type": "code",
   "execution_count": 1,
   "id": "00adec20-4e35-4379-bd67-5a390bd6143c",
   "metadata": {},
   "outputs": [],
   "source": [
    "import ipytest\n",
    "ipytest.autoconfig()"
   ]
  },
  {
   "cell_type": "code",
   "execution_count": 2,
   "id": "c0033afb-83f5-49fa-87f2-1b1956b1b05f",
   "metadata": {},
   "outputs": [],
   "source": [
    "def test_addition():\n",
    "    assert 1 + 1 == 2"
   ]
  },
  {
   "cell_type": "code",
   "execution_count": 3,
   "id": "542ab8b7-e467-4f93-a94a-16e41af69703",
   "metadata": {},
   "outputs": [
    {
     "name": "stdout",
     "output_type": "stream",
     "text": [
      "\u001b[1m======================================= test session starts ========================================\u001b[0m\n",
      "platform darwin -- Python 3.11.9, pytest-8.2.2, pluggy-1.5.0 -- /Users/Sourabh/.pyenv/versions/env2/bin/python\n",
      "cachedir: .pytest_cache\n",
      "rootdir: /Users/Sourabh/Documents/Code/GitHub/cs7646ml4t/src/testpoc/tests\n",
      "plugins: anyio-4.3.0, typeguard-4.2.1\n",
      "\u001b[1mcollecting ... \u001b[0mcollected 1 item\n",
      "\n",
      "t_0fa84af312da4fa6ae26186d40962680.py::test_addition \u001b[32mPASSED\u001b[0m\n",
      "\n",
      "\u001b[32m======================================== \u001b[32m\u001b[1m1 passed\u001b[0m\u001b[32m in 0.01s\u001b[0m\u001b[32m =========================================\u001b[0m\n"
     ]
    },
    {
     "data": {
      "text/plain": [
       "<ExitCode.OK: 0>"
      ]
     },
     "execution_count": 3,
     "metadata": {},
     "output_type": "execute_result"
    }
   ],
   "source": [
    "ipytest.run('-vvs')"
   ]
  },
  {
   "cell_type": "markdown",
   "id": "0cf4e516-6c79-42b1-8c40-3de739e6acd7",
   "metadata": {},
   "source": [
    "---"
   ]
  },
  {
   "cell_type": "code",
   "execution_count": 4,
   "id": "83324717-db4b-4327-9d6f-4e54673e14a2",
   "metadata": {},
   "outputs": [],
   "source": [
    "import pytest\n",
    "import ipytest\n",
    "ipytest.autoconfig()"
   ]
  },
  {
   "cell_type": "code",
   "execution_count": 5,
   "id": "95cb42a3-8cd5-4f00-8eda-8ee7385c1500",
   "metadata": {},
   "outputs": [],
   "source": [
    "@pytest.mark.parametrize('nb, exp', [(1, 1), (2, 4), (3, 9)])\n",
    "def test_power2(nb, exp):\n",
    "    assert nb ** 2 == exp, 'Power of 2 is not correct'"
   ]
  },
  {
   "cell_type": "code",
   "execution_count": 6,
   "id": "3bbbb809-a265-49eb-9b70-d6e955a276ae",
   "metadata": {},
   "outputs": [],
   "source": [
    "@pytest.mark.parametrize('nb, exp', [(1, 3), (2, 6), (3, 12)])\n",
    "def test_power2_bis(nb, exp):\n",
    "    assert nb ** 2 != exp, 'Power of 2 is correct'"
   ]
  },
  {
   "cell_type": "code",
   "execution_count": 7,
   "id": "f34b3b78-9c8c-4261-b0be-d9fe9128fc2c",
   "metadata": {},
   "outputs": [
    {
     "name": "stdout",
     "output_type": "stream",
     "text": [
      "\u001b[1m======================================= test session starts ========================================\u001b[0m\n",
      "platform darwin -- Python 3.11.9, pytest-8.2.2, pluggy-1.5.0 -- /Users/Sourabh/.pyenv/versions/env2/bin/python\n",
      "cachedir: .pytest_cache\n",
      "rootdir: /Users/Sourabh/Documents/Code/GitHub/cs7646ml4t/src/testpoc/tests\n",
      "plugins: anyio-4.3.0, typeguard-4.2.1\n",
      "\u001b[1mcollecting ... \u001b[0mcollected 7 items\n",
      "\n",
      "t_0fa84af312da4fa6ae26186d40962680.py::test_addition \u001b[32mPASSED\u001b[0m\n",
      "t_0fa84af312da4fa6ae26186d40962680.py::test_power2[1-1] \u001b[32mPASSED\u001b[0m\n",
      "t_0fa84af312da4fa6ae26186d40962680.py::test_power2[2-4] \u001b[32mPASSED\u001b[0m\n",
      "t_0fa84af312da4fa6ae26186d40962680.py::test_power2[3-9] \u001b[32mPASSED\u001b[0m\n",
      "t_0fa84af312da4fa6ae26186d40962680.py::test_power2_bis[1-3] \u001b[32mPASSED\u001b[0m\n",
      "t_0fa84af312da4fa6ae26186d40962680.py::test_power2_bis[2-6] \u001b[32mPASSED\u001b[0m\n",
      "t_0fa84af312da4fa6ae26186d40962680.py::test_power2_bis[3-12] \u001b[32mPASSED\u001b[0m\n",
      "\n",
      "\u001b[32m======================================== \u001b[32m\u001b[1m7 passed\u001b[0m\u001b[32m in 0.03s\u001b[0m\u001b[32m =========================================\u001b[0m\n"
     ]
    },
    {
     "data": {
      "text/plain": [
       "<ExitCode.OK: 0>"
      ]
     },
     "execution_count": 7,
     "metadata": {},
     "output_type": "execute_result"
    }
   ],
   "source": [
    "ipytest.run('-vvs')"
   ]
  },
  {
   "cell_type": "markdown",
   "id": "ff21d400-aa11-4ed7-957c-b9c6b5809e31",
   "metadata": {},
   "source": [
    "---"
   ]
  },
  {
   "cell_type": "code",
   "execution_count": 8,
   "id": "50fb4d7d-53b7-4291-b564-786df879107e",
   "metadata": {},
   "outputs": [
    {
     "name": "stdout",
     "output_type": "stream",
     "text": [
      "Writing dummy_test_file.py\n"
     ]
    }
   ],
   "source": [
    "%%file dummy_test_file.py\n",
    "# dummy_test_file.py\n",
    "import pytest\n",
    "\n",
    "# find the mismatched elements in list `l1` which are not in list `l2`\n",
    "\n",
    "def solution(l1: list, l2: list) -> list:\n",
    "    return [\n",
    "        e\n",
    "        for e in l1\n",
    "        if e not in l2\n",
    "    ]\n",
    "\n",
    "a = [1,2,3]\n",
    "b = [3,4,None,None]\n",
    "TEST_CASES = [[a,b]]\n",
    "\n",
    "class TestCase:\n",
    "    @pytest.mark.parametrize(\"test_case\", TEST_CASES)\n",
    "    def test_events(self, test_case):\n",
    "        assert solution(test_case[0], test_case[1]) == [1,2]"
   ]
  },
  {
   "cell_type": "code",
   "execution_count": 9,
   "id": "a530d723-0c7f-41b7-91a4-365d1c6bbb7d",
   "metadata": {},
   "outputs": [
    {
     "name": "stdout",
     "output_type": "stream",
     "text": [
      "\u001b[1m============================= test session starts ==============================\u001b[0m\n",
      "platform darwin -- Python 3.11.9, pytest-8.2.2, pluggy-1.5.0\n",
      "rootdir: /Users/Sourabh/Documents/Code/GitHub/cs7646ml4t/src/testpoc/tests\n",
      "plugins: anyio-4.3.0, typeguard-4.2.1\n",
      "collected 1 item                                                               \u001b[0m\n",
      "\n",
      "dummy_test_file.py \u001b[32m.\u001b[0m\u001b[32m                                                     [100%]\u001b[0m\n",
      "\n",
      "\u001b[32m============================== \u001b[32m\u001b[1m1 passed\u001b[0m\u001b[32m in 0.01s\u001b[0m\u001b[32m ===============================\u001b[0m\n"
     ]
    }
   ],
   "source": [
    "!pytest dummy_test_file.py"
   ]
  },
  {
   "cell_type": "markdown",
   "id": "a58041e1-4939-419d-bde2-31d332d8642c",
   "metadata": {},
   "source": [
    "---"
   ]
  },
  {
   "cell_type": "code",
   "execution_count": 10,
   "id": "1525dcbe-9753-4922-a2c3-f34046448891",
   "metadata": {},
   "outputs": [],
   "source": [
    "import pytest\n",
    "import ipytest\n",
    "ipytest.autoconfig()"
   ]
  },
  {
   "cell_type": "code",
   "execution_count": 11,
   "id": "65cc1752-55b3-407d-b68b-3d5fc3e29691",
   "metadata": {},
   "outputs": [],
   "source": [
    "class DataModel:\n",
    "    def __init__(self, data):\n",
    "        self.data = data\n",
    "    def __str__(self):\n",
    "        return f'data = {self.data}'"
   ]
  },
  {
   "cell_type": "code",
   "execution_count": 12,
   "id": "392af9fc-20d5-41fd-9ae0-44ab4ae74f4f",
   "metadata": {},
   "outputs": [],
   "source": [
    "@pytest.fixture\n",
    "def test_data(request):\n",
    "    # request.param may also be a datasource name\n",
    "    return DataModel(request.param)\n",
    "\n",
    "@pytest.fixture\n",
    "def fruits(test_data):\n",
    "    # aliasing a fixture: a specific fixture to yield the generic fixture\n",
    "    yield test_data\n",
    "\n",
    "@pytest.fixture\n",
    "def vegetables(test_data):\n",
    "    # aliasing a fixture: a specific fixture to yield the generic fixture\n",
    "    yield test_data"
   ]
  },
  {
   "cell_type": "code",
   "execution_count": 13,
   "id": "64d2cacc-47d6-4abe-93cd-025c0603eaae",
   "metadata": {},
   "outputs": [],
   "source": [
    "@pytest.mark.parametrize(\n",
    "    \"test_data\", \n",
    "    [\n",
    "        \"Apple\",                          # request.param # 1\n",
    "        [\"Apple\", \"Orange\", \"Banana\"],    # request.param # 2\n",
    "        (\"Pear\", \"Pineapple\")             # request.param # 3\n",
    "    ], \n",
    "    indirect=True\n",
    ")\n",
    "def test_fruits(fruits):\n",
    "    print(fruits, end=' ')\n",
    "    assert True"
   ]
  },
  {
   "cell_type": "code",
   "execution_count": 14,
   "id": "46c1e656-b27f-44a5-a8f9-8a340a1ed106",
   "metadata": {},
   "outputs": [],
   "source": [
    "@pytest.mark.parametrize(\n",
    "    \"test_data\", \n",
    "    [\n",
    "        \"Brinjal\",                        # request.param # 1\n",
    "        [\"Potato\", \"Radish\", \"Cucumber\"], # request.param # 2\n",
    "        (\"Onion\", \"Carrot\")               # request.param # 3\n",
    "    ], \n",
    "    indirect=True\n",
    ")\n",
    "def test_vegetables(vegetables):\n",
    "    print(vegetables, end=' ')\n",
    "    assert True"
   ]
  },
  {
   "cell_type": "code",
   "execution_count": 15,
   "id": "97bbe2be-5a0e-4e27-aeb1-1b98bcf57c0b",
   "metadata": {},
   "outputs": [
    {
     "name": "stdout",
     "output_type": "stream",
     "text": [
      "\u001b[1m======================================= test session starts ========================================\u001b[0m\n",
      "platform darwin -- Python 3.11.9, pytest-8.2.2, pluggy-1.5.0 -- /Users/Sourabh/.pyenv/versions/env2/bin/python\n",
      "cachedir: .pytest_cache\n",
      "rootdir: /Users/Sourabh/Documents/Code/GitHub/cs7646ml4t/src/testpoc/tests\n",
      "plugins: anyio-4.3.0, typeguard-4.2.1\n",
      "\u001b[1mcollecting ... \u001b[0mcollected 13 items\n",
      "\n",
      "t_0fa84af312da4fa6ae26186d40962680.py::test_addition \u001b[32mPASSED\u001b[0m\n",
      "t_0fa84af312da4fa6ae26186d40962680.py::test_power2[1-1] \u001b[32mPASSED\u001b[0m\n",
      "t_0fa84af312da4fa6ae26186d40962680.py::test_power2[2-4] \u001b[32mPASSED\u001b[0m\n",
      "t_0fa84af312da4fa6ae26186d40962680.py::test_power2[3-9] \u001b[32mPASSED\u001b[0m\n",
      "t_0fa84af312da4fa6ae26186d40962680.py::test_power2_bis[1-3] \u001b[32mPASSED\u001b[0m\n",
      "t_0fa84af312da4fa6ae26186d40962680.py::test_power2_bis[2-6] \u001b[32mPASSED\u001b[0m\n",
      "t_0fa84af312da4fa6ae26186d40962680.py::test_power2_bis[3-12] \u001b[32mPASSED\u001b[0m\n",
      "t_0fa84af312da4fa6ae26186d40962680.py::test_fruits[Apple] data = Apple \u001b[32mPASSED\u001b[0m\n",
      "t_0fa84af312da4fa6ae26186d40962680.py::test_fruits[test_data1] data = ['Apple', 'Orange', 'Banana'] \u001b[32mPASSED\u001b[0m\n",
      "t_0fa84af312da4fa6ae26186d40962680.py::test_fruits[test_data2] data = ('Pear', 'Pineapple') \u001b[32mPASSED\u001b[0m\n",
      "t_0fa84af312da4fa6ae26186d40962680.py::test_vegetables[Brinjal] data = Brinjal \u001b[32mPASSED\u001b[0m\n",
      "t_0fa84af312da4fa6ae26186d40962680.py::test_vegetables[test_data1] data = ['Potato', 'Radish', 'Cucumber'] \u001b[32mPASSED\u001b[0m\n",
      "t_0fa84af312da4fa6ae26186d40962680.py::test_vegetables[test_data2] data = ('Onion', 'Carrot') \u001b[32mPASSED\u001b[0m\n",
      "\n",
      "\u001b[32m======================================== \u001b[32m\u001b[1m13 passed\u001b[0m\u001b[32m in 0.06s\u001b[0m\u001b[32m ========================================\u001b[0m\n"
     ]
    },
    {
     "data": {
      "text/plain": [
       "<ExitCode.OK: 0>"
      ]
     },
     "execution_count": 15,
     "metadata": {},
     "output_type": "execute_result"
    }
   ],
   "source": [
    "ipytest.run('-vvs')"
   ]
  },
  {
   "cell_type": "markdown",
   "id": "ec86a94e-be53-448b-8576-1bb222b2ae6a",
   "metadata": {},
   "source": [
    "---"
   ]
  }
 ],
 "metadata": {
  "kernelspec": {
   "display_name": "env2",
   "language": "python",
   "name": "env2"
  },
  "language_info": {
   "codemirror_mode": {
    "name": "ipython",
    "version": 3
   },
   "file_extension": ".py",
   "mimetype": "text/x-python",
   "name": "python",
   "nbconvert_exporter": "python",
   "pygments_lexer": "ipython3",
   "version": "3.11.9"
  }
 },
 "nbformat": 4,
 "nbformat_minor": 5
}
